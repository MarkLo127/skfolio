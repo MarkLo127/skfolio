{
  "cells": [
    {
      "cell_type": "markdown",
      "metadata": {},
      "source": [
        "\n# Black & Litterman Factor Model\n\nThis tutorial shows how to use the :class:`~skfolio.prior.FactorModel` estimator coupled\nwith the :class:`~skfolio.prior.BlackLitterman` estimator in the\n:class:`~skfolio.optimization.MeanRisk` optimization.\n\nThe Black & Litterman Factor Model is a Factor Model in which we incorporate views on\nfactors using the Black & Litterman Model.\n\nIn the previous two tutorials, we introduced the Factor Model and the Black & Litterman\nseparately. In this tutorial we show how we can merge them together by building a\nMaximum Sharpe Ratio portfolio using the `FactorModel` estimator.\n"
      ]
    },
    {
      "cell_type": "markdown",
      "metadata": {},
      "source": [
        "## Data\nWe load the S&P 500 `dataset <datasets>` composed of the daily prices of 20\nassets from the SPX Index composition and the Factors dataset composed of the daily\nprices of 5 ETF representing common factors:\n\n"
      ]
    },
    {
      "cell_type": "code",
      "execution_count": null,
      "metadata": {
        "collapsed": false
      },
      "outputs": [],
      "source": [
        "from plotly.io import show\nfrom sklearn.model_selection import train_test_split\n\nfrom skfolio import Population, RiskMeasure\nfrom skfolio.datasets import load_factors_dataset, load_sp500_dataset\nfrom skfolio.optimization import MeanRisk, ObjectiveFunction\nfrom skfolio.preprocessing import prices_to_returns\nfrom skfolio.prior import BlackLitterman, FactorModel\n\nprices = load_sp500_dataset()\nfactor_prices = load_factors_dataset()\n\nprices = prices[\"2014\":]\nfactor_prices = factor_prices[\"2014\":]\n\nX, y = prices_to_returns(prices, factor_prices)\nX_train, X_test, y_train, y_test = train_test_split(X, y, test_size=0.33, shuffle=False)"
      ]
    },
    {
      "cell_type": "markdown",
      "metadata": {},
      "source": [
        "## Analyst views\nLet's assume we are able to accurately estimate views about future realization of the\nfactors. We estimate that the factor Size will have an expected return of 10% p.a.\n(absolute view) and will outperform the factor Value by 3% p.a. (relative view). We\nalso estimate the factor Momentum will outperform the factor Quality by 2% p.a\n(relative view). By converting these annualized estimates into daily estimates to be\nhomogenous with the input `X`, we get:\n\n"
      ]
    },
    {
      "cell_type": "code",
      "execution_count": null,
      "metadata": {
        "collapsed": false
      },
      "outputs": [],
      "source": [
        "factor_views = [\n    \"SIZE == 0.00039\",\n    \"SIZE - VLUE == 0.00011 \",\n    \"MTUM - QUAL == 0.00007\",\n]"
      ]
    },
    {
      "cell_type": "markdown",
      "metadata": {},
      "source": [
        "## Black & Litterman Factor Model\nWe create a Maximum Sharpe Ratio model using the Black & Litterman Factor Model that\nwe fit on the training set:\n\n"
      ]
    },
    {
      "cell_type": "code",
      "execution_count": null,
      "metadata": {
        "collapsed": false
      },
      "outputs": [],
      "source": [
        "model_bl_factor = MeanRisk(\n    risk_measure=RiskMeasure.VARIANCE,\n    objective_function=ObjectiveFunction.MAXIMIZE_RATIO,\n    prior_estimator=FactorModel(\n        factor_prior_estimator=BlackLitterman(views=factor_views),\n    ),\n    portfolio_params=dict(name=\"Black & Litterman Factor Model\"),\n)\nmodel_bl_factor.fit(X_train, y_train)\nmodel_bl_factor.weights_"
      ]
    },
    {
      "cell_type": "markdown",
      "metadata": {},
      "source": [
        "For comparison, we also create a Maximum Sharpe Ratio model using a simple Factor\nModel:\n\n"
      ]
    },
    {
      "cell_type": "code",
      "execution_count": null,
      "metadata": {
        "collapsed": false
      },
      "outputs": [],
      "source": [
        "model_factor = MeanRisk(\n    risk_measure=RiskMeasure.VARIANCE,\n    objective_function=ObjectiveFunction.MAXIMIZE_RATIO,\n    prior_estimator=FactorModel(),\n    portfolio_params=dict(name=\"Factor Model\"),\n)\nmodel_factor.fit(X_train, y_train)\nmodel_factor.weights_"
      ]
    },
    {
      "cell_type": "markdown",
      "metadata": {},
      "source": [
        "## Prediction\nWe predict both models on the test set:\n\n"
      ]
    },
    {
      "cell_type": "code",
      "execution_count": null,
      "metadata": {
        "collapsed": false
      },
      "outputs": [],
      "source": [
        "ptf_bl_factor_test = model_bl_factor.predict(X_test)\nptf_factor_test = model_factor.predict(X_test)\n\npopulation = Population([ptf_bl_factor_test, ptf_factor_test])\n\npopulation.plot_cumulative_returns()"
      ]
    },
    {
      "cell_type": "markdown",
      "metadata": {},
      "source": [
        "Because our factor views were accurate, the Black & Litterman Factor Model\noutperformed the simple Factor Model on the test set.\n\nLet's plot the portfolios compositions:\n\n"
      ]
    },
    {
      "cell_type": "code",
      "execution_count": null,
      "metadata": {
        "collapsed": false
      },
      "outputs": [],
      "source": [
        "fig = population.plot_composition()\nshow(fig)"
      ]
    },
    {
      "cell_type": "markdown",
      "metadata": {},
      "source": [
        "## Going Further\nThe API design makes it possible to created nested models without limits.\nIn the below example, we re-apply a Black & Litterman model incorporating assets\nviews. But instead of using the empirical moments, we use the above Black & Litterman\nfactor model:\n\n"
      ]
    },
    {
      "cell_type": "code",
      "execution_count": null,
      "metadata": {
        "collapsed": false
      },
      "outputs": [],
      "source": [
        "assets_views = [\n    \"AAPL == 0.00098\",\n    \"AAPL - GE == 0.00086\",\n    \"JPM - GE == 0.00059\",\n]\n\nmodel = BlackLitterman(\n    views=assets_views,\n    prior_estimator=FactorModel(\n        factor_prior_estimator=BlackLitterman(views=factor_views),\n    ),\n)\n\nmodel.fit(X, y)\nprint(model.prior_model_.covariance.shape)"
      ]
    }
  ],
  "metadata": {
    "kernelspec": {
      "display_name": "Python 3",
      "language": "python",
      "name": "python3"
    },
    "language_info": {
      "codemirror_mode": {
        "name": "ipython",
        "version": 3
      },
      "file_extension": ".py",
      "mimetype": "text/x-python",
      "name": "python",
      "nbconvert_exporter": "python",
      "pygments_lexer": "ipython3",
      "version": "3.10.15"
    }
  },
  "nbformat": 4,
  "nbformat_minor": 0
}