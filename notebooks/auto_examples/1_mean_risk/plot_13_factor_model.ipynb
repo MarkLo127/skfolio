{
  "cells": [
    {
      "cell_type": "markdown",
      "metadata": {},
      "source": [
        "\n# Factor Model\n\nThis tutorial shows how to use the :class:`~skfolio.prior.FactorModel` estimator in\nthe :class:`~skfolio.optimization.MeanRisk` optimization.\n\nA `prior estimator <prior>` fits a :class:`~skfolio.prior.PriorModel` containing\nthe distribution estimate of asset returns. It represents the investor's prior beliefs\nabout the model used to estimate such distribution.\n\nThe `PriorModel` is a dataclass containing:\n\n    * `mu`: Expected returns estimation\n    * `covariance`: Covariance matrix estimation\n    * `returns`: assets returns estimation\n    * `cholesky` : Lower-triangular Cholesky factor of the covariance estimation (optional)\n\nThe `FactorModel` estimator estimates the :class:`PriorModel` using a factor model and a\n`prior estimator <prior>` of the factor's returns. The purpose of factor models is\nto impose a structure on financial variables and their covariance matrix by explaining\nthem through a small number of common factors. This can help overcome estimation\nerror by reducing the number of parameters, i.e., the dimensionality of the estimation\nproblem, making portfolio optimization more robust against noise in the data. Factor\nmodels also provide a decomposition of financial risk to systematic and security\nspecific components.\n\nTo be compatible with `scikit-learn`, the `fit` method takes `X` as the assets returns\nand `y` as the factors returns. Note that `y` is in lowercase even for a 2D array\n(more than one factor). This is for consistency with the scikit-learn API.\n\nIn this tutorial we will build a Maximum Sharpe Ratio portfolio using the `FactorModel`\nestimator.\n"
      ]
    },
    {
      "cell_type": "markdown",
      "metadata": {},
      "source": [
        "## Data\nWe load the S&P 500 `dataset <datasets>` composed of the daily prices of 20\nassets from the SPX Index composition and the Factors dataset composed of the daily\nprices of 5 ETF representing common factors:\n\n"
      ]
    },
    {
      "cell_type": "code",
      "execution_count": null,
      "metadata": {
        "collapsed": false
      },
      "outputs": [],
      "source": [
        "from plotly.io import show\nfrom sklearn.linear_model import RidgeCV\nfrom sklearn.model_selection import train_test_split\n\nfrom skfolio import Population, RiskMeasure\nfrom skfolio.datasets import load_factors_dataset, load_sp500_dataset\nfrom skfolio.moments import GerberCovariance, ShrunkMu\nfrom skfolio.optimization import MeanRisk, ObjectiveFunction\nfrom skfolio.preprocessing import prices_to_returns\nfrom skfolio.prior import EmpiricalPrior, FactorModel, LoadingMatrixRegression\n\nprices = load_sp500_dataset()\nfactor_prices = load_factors_dataset()\n\nprices = prices[\"2014\":]\nfactor_prices = factor_prices[\"2014\":]\n\nX, y = prices_to_returns(prices, factor_prices)\nX_train, X_test, y_train, y_test = train_test_split(X, y, test_size=0.33, shuffle=False)"
      ]
    },
    {
      "cell_type": "markdown",
      "metadata": {},
      "source": [
        "## Factor Model\nWe create a Maximum Sharpe Ratio model using the Factor Model that we fit on the\ntraining set:\n\n"
      ]
    },
    {
      "cell_type": "code",
      "execution_count": null,
      "metadata": {
        "collapsed": false
      },
      "outputs": [],
      "source": [
        "model_factor_1 = MeanRisk(\n    risk_measure=RiskMeasure.VARIANCE,\n    objective_function=ObjectiveFunction.MAXIMIZE_RATIO,\n    prior_estimator=FactorModel(),\n    portfolio_params=dict(name=\"Factor Model 1\"),\n)\nmodel_factor_1.fit(X_train, y_train)\nmodel_factor_1.weights_"
      ]
    },
    {
      "cell_type": "markdown",
      "metadata": {},
      "source": [
        "We can change the :class:`~skfolio.prior.BaseLoadingMatrix` that estimates the loading\nmatrix (betas) of the factors.\n\nThe default is the :class:`LoadingMatrixRegression`, which fit the factors using a\n`LassoCV` on each asset separately.\n\nFor example, let's change the `LassoCV` into a `RidgeCV` without intercept and use\nparallelization:\n\n"
      ]
    },
    {
      "cell_type": "code",
      "execution_count": null,
      "metadata": {
        "collapsed": false
      },
      "outputs": [],
      "source": [
        "model_factor_2 = MeanRisk(\n    risk_measure=RiskMeasure.VARIANCE,\n    objective_function=ObjectiveFunction.MAXIMIZE_RATIO,\n    prior_estimator=FactorModel(\n        loading_matrix_estimator=LoadingMatrixRegression(\n            linear_regressor=RidgeCV(fit_intercept=False), n_jobs=-1\n        )\n    ),\n    portfolio_params=dict(name=\"Factor Model 2\"),\n)\nmodel_factor_2.fit(X_train, y_train)\nmodel_factor_2.weights_"
      ]
    },
    {
      "cell_type": "markdown",
      "metadata": {},
      "source": [
        "We can also change the `prior estimator <prior>` of the factors.\nIt is used to estimate the :class:`~skfolio.prior.PriorModel` containing the factors\nexpected returns and covariance matrix.\n\nFor example, let's estimate the factors expected returns with James-Stein shrinkage\nand the factors covariance matrix with the Gerber covariance estimator:\n\n"
      ]
    },
    {
      "cell_type": "code",
      "execution_count": null,
      "metadata": {
        "collapsed": false
      },
      "outputs": [],
      "source": [
        "model_factor_3 = MeanRisk(\n    risk_measure=RiskMeasure.VARIANCE,\n    objective_function=ObjectiveFunction.MAXIMIZE_RATIO,\n    prior_estimator=FactorModel(\n        factor_prior_estimator=EmpiricalPrior(\n            mu_estimator=ShrunkMu(), covariance_estimator=GerberCovariance()\n        )\n    ),\n    portfolio_params=dict(name=\"Factor Model 3\"),\n)\nmodel_factor_3.fit(X_train, y_train)\nmodel_factor_3.weights_"
      ]
    },
    {
      "cell_type": "markdown",
      "metadata": {},
      "source": [
        "## Factor Analysis\nEach fitted estimator is saved with a trailing underscore.\nFor example, we can access the fitted prior estimator with:\n\n"
      ]
    },
    {
      "cell_type": "code",
      "execution_count": null,
      "metadata": {
        "collapsed": false
      },
      "outputs": [],
      "source": [
        "prior_estimator = model_factor_3.prior_estimator_"
      ]
    },
    {
      "cell_type": "markdown",
      "metadata": {},
      "source": [
        "We can access the prior model with:\n\n"
      ]
    },
    {
      "cell_type": "code",
      "execution_count": null,
      "metadata": {
        "collapsed": false
      },
      "outputs": [],
      "source": [
        "prior_model = prior_estimator.prior_model_"
      ]
    },
    {
      "cell_type": "markdown",
      "metadata": {},
      "source": [
        "We can access the loading matrix with:\n\n"
      ]
    },
    {
      "cell_type": "code",
      "execution_count": null,
      "metadata": {
        "collapsed": false
      },
      "outputs": [],
      "source": [
        "loading_matrix = prior_estimator.loading_matrix_estimator_.loading_matrix_"
      ]
    },
    {
      "cell_type": "markdown",
      "metadata": {},
      "source": [
        "## Empirical Model\nFor comparison, we also create a Maximum Sharpe Ratio model using the default\nEmpirical estimator:\n\n"
      ]
    },
    {
      "cell_type": "code",
      "execution_count": null,
      "metadata": {
        "collapsed": false
      },
      "outputs": [],
      "source": [
        "model_empirical = MeanRisk(\n    risk_measure=RiskMeasure.VARIANCE,\n    objective_function=ObjectiveFunction.MAXIMIZE_RATIO,\n    portfolio_params=dict(name=\"Empirical\"),\n)\nmodel_empirical.fit(X_train)\nmodel_empirical.weights_"
      ]
    },
    {
      "cell_type": "markdown",
      "metadata": {},
      "source": [
        "## Prediction\nWe predict all models on the test set:\n\n"
      ]
    },
    {
      "cell_type": "code",
      "execution_count": null,
      "metadata": {
        "collapsed": false
      },
      "outputs": [],
      "source": [
        "ptf_factor_1_test = model_factor_1.predict(X_test)\nptf_factor_2_test = model_factor_2.predict(X_test)\nptf_factor_3_test = model_factor_3.predict(X_test)\nptf_empirical_test = model_empirical.predict(X_test)\n\npopulation = Population(\n    [ptf_factor_1_test, ptf_factor_2_test, ptf_factor_3_test, ptf_empirical_test]\n)\n\nfig = population.plot_cumulative_returns()\nshow(fig)"
      ]
    },
    {
      "cell_type": "markdown",
      "metadata": {},
      "source": [
        "|\n\nLet's plot the portfolios' composition:\n\n"
      ]
    },
    {
      "cell_type": "code",
      "execution_count": null,
      "metadata": {
        "collapsed": false
      },
      "outputs": [],
      "source": [
        "population.plot_composition()"
      ]
    }
  ],
  "metadata": {
    "kernelspec": {
      "display_name": "Python 3",
      "language": "python",
      "name": "python3"
    },
    "language_info": {
      "codemirror_mode": {
        "name": "ipython",
        "version": 3
      },
      "file_extension": ".py",
      "mimetype": "text/x-python",
      "name": "python",
      "nbconvert_exporter": "python",
      "pygments_lexer": "ipython3",
      "version": "3.10.14"
    }
  },
  "nbformat": 4,
  "nbformat_minor": 0
}